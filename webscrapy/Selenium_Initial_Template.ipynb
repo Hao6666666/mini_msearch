{
 "cells": [
  {
   "cell_type": "markdown",
   "metadata": {},
   "source": [
    "### Part 1 - Set Up"
   ]
  },
  {
   "cell_type": "code",
   "execution_count": 35,
   "metadata": {},
   "outputs": [],
   "source": [
    "# relevent packages\n",
    "from selenium import webdriver\n",
    "from selenium.webdriver.common.keys import Keys\n",
    "from selenium.webdriver.common.by import By\n",
    "from selenium.webdriver.chrome.options import Options\n",
    "import time"
   ]
  },
  {
   "cell_type": "code",
   "execution_count": 36,
   "metadata": {},
   "outputs": [],
   "source": [
    "# websites\n",
    "web_1 = 'https://www.geekbuying.com/search?keyword=laptop'\n",
    "web_2 = 'http://automationpractice.com/index.php'"
   ]
  },
  {
   "cell_type": "code",
   "execution_count": 37,
   "metadata": {
    "scrolled": false
   },
   "outputs": [
    {
     "name": "stderr",
     "output_type": "stream",
     "text": [
      "<ipython-input-37-411d0ede4afc>:2: DeprecationWarning: executable_path has been deprecated, please pass in a Service object\n",
      "  driver = webdriver.Chrome('/Users/yuhao/Documents/Webdriver/chromedriver')\n"
     ]
    }
   ],
   "source": [
    "# initialize Chorme driver\n",
    "driver = webdriver.Chrome('/Users/yuhao/Documents/Webdriver/chromedriver')\n",
    "\n",
    "# open website\n",
    "driver.get(web_1)"
   ]
  },
  {
   "cell_type": "markdown",
   "metadata": {},
   "source": [
    "### Part 2 - Locators "
   ]
  },
  {
   "cell_type": "markdown",
   "metadata": {},
   "source": [
    "##### Xpath - Locator "
   ]
  },
  {
   "cell_type": "code",
   "execution_count": 40,
   "metadata": {},
   "outputs": [
    {
     "name": "stderr",
     "output_type": "stream",
     "text": [
      "<ipython-input-40-c8296c0d8f40>:1: DeprecationWarning: find_element_by_xpath is deprecated. Please use find_element(by=By.XPATH, value=xpath) instead\n",
      "  price = driver.find_element_by_xpath('(//li[@class=\"searchResultItem\"]/div/div[3])[1]')\n"
     ]
    }
   ],
   "source": [
    "price = driver.find_element_by_xpath('(//li[@class=\"searchResultItem\"]/div/div[3])[1]')"
   ]
  },
  {
   "cell_type": "code",
   "execution_count": 41,
   "metadata": {},
   "outputs": [
    {
     "name": "stdout",
     "output_type": "stream",
     "text": [
      "$399.99\n"
     ]
    }
   ],
   "source": [
    "# print out the price\n",
    "print(price.text)"
   ]
  },
  {
   "cell_type": "code",
   "execution_count": 42,
   "metadata": {
    "scrolled": false
   },
   "outputs": [
    {
     "name": "stderr",
     "output_type": "stream",
     "text": [
      "<ipython-input-42-7ff7d3296a66>:1: DeprecationWarning: find_elements_by_xpath is deprecated. Please use find_elements(by=By.XPATH, value=xpath) instead\n",
      "  prices = driver.find_elements_by_xpath('//li[@class=\"searchResultItem\"]/div/div[3]')\n"
     ]
    }
   ],
   "source": [
    "prices = driver.find_elements_by_xpath('//li[@class=\"searchResultItem\"]/div/div[3]')"
   ]
  },
  {
   "cell_type": "code",
   "execution_count": 44,
   "metadata": {
    "scrolled": true
   },
   "outputs": [
    {
     "data": {
      "text/plain": [
       "40"
      ]
     },
     "execution_count": 44,
     "metadata": {},
     "output_type": "execute_result"
    }
   ],
   "source": [
    "len(prices)"
   ]
  },
  {
   "cell_type": "code",
   "execution_count": 46,
   "metadata": {
    "scrolled": false
   },
   "outputs": [
    {
     "data": {
      "text/plain": [
       "['$399.99',\n",
       " '$148.99',\n",
       " '$569.99',\n",
       " '$379.99',\n",
       " '$63.99',\n",
       " '$142.99',\n",
       " '$212.99',\n",
       " '$233.99',\n",
       " '$152.99',\n",
       " '$92.99',\n",
       " '$79.99',\n",
       " '$919.99',\n",
       " '$754.99',\n",
       " '$593.99',\n",
       " '$399.99',\n",
       " '$11.99',\n",
       " '$2.99',\n",
       " '$1149.99',\n",
       " '$31.99',\n",
       " '$484.99',\n",
       " '$439.99',\n",
       " '$1169.99',\n",
       " '$32.99',\n",
       " '$73.99',\n",
       " '$29.99',\n",
       " '$59.99',\n",
       " '$199.99',\n",
       " '$209.99',\n",
       " '$33.99',\n",
       " '$27.99',\n",
       " '$14.99',\n",
       " '$41.99',\n",
       " '$36.99',\n",
       " '$48.99',\n",
       " '$24.99',\n",
       " '$79.99',\n",
       " '$59.99',\n",
       " '$729.99',\n",
       " '$484.99',\n",
       " '$729.99']"
      ]
     },
     "execution_count": 46,
     "metadata": {},
     "output_type": "execute_result"
    }
   ],
   "source": [
    "# print out all prices\n",
    "[p.text for p in prices]"
   ]
  },
  {
   "cell_type": "code",
   "execution_count": 47,
   "metadata": {},
   "outputs": [
    {
     "data": {
      "text/plain": [
       "list"
      ]
     },
     "execution_count": 47,
     "metadata": {},
     "output_type": "execute_result"
    }
   ],
   "source": [
    "type(prices)"
   ]
  },
  {
   "cell_type": "markdown",
   "metadata": {},
   "source": [
    "##### Class Name - Locator"
   ]
  },
  {
   "cell_type": "code",
   "execution_count": 50,
   "metadata": {},
   "outputs": [
    {
     "name": "stderr",
     "output_type": "stream",
     "text": [
      "<ipython-input-50-a61275f7beaa>:1: DeprecationWarning: find_elements_by_class_name is deprecated. Please use find_elements(by=By.CLASS_NAME, value=name) instead\n",
      "  names = driver.find_elements_by_class_name('name')\n"
     ]
    }
   ],
   "source": [
    "names = driver.find_elements_by_class_name('name')"
   ]
  },
  {
   "cell_type": "code",
   "execution_count": 51,
   "metadata": {},
   "outputs": [
    {
     "data": {
      "text/plain": [
       "40"
      ]
     },
     "execution_count": 51,
     "metadata": {},
     "output_type": "execute_result"
    }
   ],
   "source": [
    "len(names)"
   ]
  },
  {
   "cell_type": "code",
   "execution_count": 52,
   "metadata": {
    "scrolled": true
   },
   "outputs": [
    {
     "data": {
      "text/plain": [
       "list"
      ]
     },
     "execution_count": 52,
     "metadata": {},
     "output_type": "execute_result"
    }
   ],
   "source": [
    "type(names)"
   ]
  },
  {
   "cell_type": "code",
   "execution_count": 54,
   "metadata": {},
   "outputs": [
    {
     "data": {
      "text/plain": [
       "['BMAX X15 Laptop 15.6 Inch IPS Screen Intel Gemini Lake N4100 Windows 10 8GB RAM 256GB SSD 5000mAh Battery - Grey',\n",
       " \"Z-Edge Ultra 1 Portable Monitor for Laptop, 15.6'' Ultra-Slim Monitor with Type-C, 1920x1080 Full HD IPS Screen USB C\",\n",
       " 'BMAX X14 Pro Laptop 14.1 inch 1920 x 1080 IPS Screen AMD Ryzen 5-3450U 8GB RAM 512GB SSD Windows 10 OS 5000mAh Battery Full-size Backlit Keyboard',\n",
       " 'BMAX Y13 2-in-1 Convertible Laptop 13.3 Inch IPS Screen Intel Gemini Lake N4100 8GB DDR4 256GB SSD Windows 10 5000mAh Battery Backlit Keyboard - Grey',\n",
       " 'Industrial Side Table with Metal Frame Mobile Snack Table for Coffee Laptop Tablet Slides Next to Sofa Couch, Wood Look Accent Furniture',\n",
       " 'Home Office Computer Desk Industrial Modern Design Steel Frame MDF Board - Tiger',\n",
       " 'Home Office Computer Desk with Three-dimensional Shelf - Brown',\n",
       " 'Home Office Dual Person Computer Desk Industrial Modern Design Steel Frame MDF Board - Tiger',\n",
       " 'Home Office Adjustable Angle Computer Desk with Tiltable Board and Bottom Shelf - Brown',\n",
       " 'Home Office Folding Computer Desk for Small Space - Brown',\n",
       " 'Home Office 46\" Computer Desk Solid Metal Frame MDF Board - Brown',\n",
       " \"ALLDOCUBE iWork GT 2 in 1 Tablet Windows 11 i5-1135G7 CPU 16GB LPDDR4x 512GB PCIE SSD, 11'' Laptop Keyboard Not Included\",\n",
       " \"ALLDOCUBE iWork GT 2 in 1 Tablet Windows 11 i5-1135G7 CPU, 8GB LPDDR4x 256GB PCIE SSD, 11'' Laptop Keyboard Not Included\",\n",
       " \"ALLDOCUBE iWork GT 2 in 1 Tablet Windows 11 i3-1115G4 CPU, 8GB LPDDR4x 256GB PCIE SSD, 11'' Laptop Keyboard Not Included\",\n",
       " 'ALLDOCUBE KNote X Pro Tablet Laptop Intel Gemini Lake N4100 13.3 Inch 1080P FHD Screen Windows 10 8GB RAM 128GB ROM - Grey',\n",
       " 'ORICO 2020U3 2.5 inch Hard Drive HDD Enclosure Fast Transfer Rate for Laptops / PC / TV / PS4 - Black',\n",
       " 'Earbuds Cleaning Pen for Headphones, Airpods, Tablet, Watch, Laptop, Mobile Phone, Keyboard, Camera - White',\n",
       " 'One Netbook ONEXPLAYER 1S Game Console PC 8.4 Inch Pocket Computer i7-1195G7 16GB RAM 1TB SSD IPS Touch Screen Windows 10 EU Plug',\n",
       " 'HXSJ S3 1080P HD Webcam 5MP Auto Focus Built-in Microphone Adjustable Angle Support Video Conference For Desktop PC / Laptop - Black',\n",
       " 'GPD MicroPC Pocket Laptop Mini PC 6 Inch Screen Intel Celeron N4120 8GB RAM 256GB SSD Windows 10 Pro Home 2x3100mAh Battery - EU Plug',\n",
       " 'CENAVA PA156-12 Laptop 15.6 Inch 1920 x 1080p Screen Intel Celeron J4125 16GB RAM 512GB SSD Windows 10 Fanless Design Backlit keyboard Fingerprint Unlock',\n",
       " 'GPD Pocket 3 Laptop Mini Tablet PC 8 Inch 1920 x 1200 Resolution IPS Touchscreen Intel Core i7-1195G7 16GB RAM 1TB SSD Windows 10 Home 38.5Wh Battery - EU Plug',\n",
       " 'Logitech G300S Wired Gaming Mouse 9 Programmable Keys 2500DPI Ergonomic Shape For PC / Laptop - Black',\n",
       " 'Logitech G502 HERO Wired Gaming Mouse 16000DPI With 16.8 millon Backlight For PC / Laptop - Black',\n",
       " 'Logitech Pebble Wireless Mouse Bluetooth 2.4GHz Mute Dual Modes Portable For PC Laptop - White',\n",
       " 'Logitech C270 HD Vid 720P Webcam With MIC Micphone Video Calling for Android TV Box/PC/Laptop',\n",
       " 'AJAZZ AC081 Hot-swappable Wired Mechanical Gaming Keyboard with White Switch Anti-Ghosting for Laptop PC',\n",
       " 'AJAZZ AC081 Hot-swappable Wired Mechanical Gaming Keyboard with Mute Switch Anti-Ghosting for Laptop PC',\n",
       " 'Baseus 5-in-1 Type-C USB 3.0 HUB Adapter for Laptop Tablet Phone - Gray',\n",
       " 'Baseus 4-in-1 Type-C USB 3.0 HUB Adapter for Laptop Tablet Phone - Gray',\n",
       " 'P1 Webcam 1080P with Microphone Auto Focus Light Correction For Windows PC Mac Laptop Desktop - Black',\n",
       " 'Baseus 8-in-1 Type-C USB 3.0 HUB Adapter for Laptop Tablet Phone - Gray',\n",
       " 'Baseus 6-in-1 Type-C USB 3.0 HUB Adapter for Laptop Tablet Phone - Gray',\n",
       " 'Xiaomi Wowstick 1F + Electric Screwdriver Bits Toolkit for Reparing Phone Toy Laptop Digital Product - Gray',\n",
       " 'HXSJ S90 720P HD Webcam USB Compatible Adjustable Angle Automatic Color Correction Built-in Sound-absorbing Microphone For Laptop Desktop TV - Black',\n",
       " 'Wireless Air Duster USB Dust Blower Handheld Dust Collector Rechargable Large Capacity Portable for PC Laptop Car Clean - 15000mAh Battery Capacity',\n",
       " 'Wireless Air Duster USB Dust Blower Handheld Dust Collector Rechargable Large Capacity Portable for PC Laptop Car Clean - 6000mAh Battery Capacity',\n",
       " 'GPD Pocket 3 Laptop Mini Tablet PC 8 Inch 1920 x 1200 Resolution IPS Touchscreen Intel Pentium N6000 8GB RAM 512GB SSD Windows 10 Home 38.5Wh Battery - EU Plug',\n",
       " 'GPD MicroPC Pocket Laptop Mini PC 6 Inch Screen Intel Celeron N4120 8GB RAM 256GB SSD Windows 10 Pro Home 2x3100mAh Battery - US Plug',\n",
       " 'GPD Pocket 3 Laptop Mini Tablet PC 8 Inch 1920 x 1200 Resolution IPS Touchscreen Intel Pentium N6000 8GB RAM 512GB SSD Windows 10 Home 38.5Wh Battery - US Plug']"
      ]
     },
     "execution_count": 54,
     "metadata": {},
     "output_type": "execute_result"
    }
   ],
   "source": [
    "[n.text for n in names]"
   ]
  },
  {
   "cell_type": "code",
   "execution_count": 60,
   "metadata": {},
   "outputs": [
    {
     "ename": "NoSuchWindowException",
     "evalue": "Message: no such window: window was already closed\n  (Session info: chrome=102.0.5005.61)\nStacktrace:\n0   chromedriver                        0x00000001082702c9 chromedriver + 5120713\n1   chromedriver                        0x00000001081fee33 chromedriver + 4656691\n2   chromedriver                        0x0000000107dee158 chromedriver + 393560\n3   chromedriver                        0x0000000107ddd3a7 chromedriver + 324519\n4   chromedriver                        0x0000000107dde822 chromedriver + 329762\n5   chromedriver                        0x0000000107dd730c chromedriver + 299788\n6   chromedriver                        0x0000000107def5b2 chromedriver + 398770\n7   chromedriver                        0x0000000107e525fb chromedriver + 804347\n8   chromedriver                        0x0000000107e40373 chromedriver + 729971\n9   chromedriver                        0x0000000107e16609 chromedriver + 558601\n10  chromedriver                        0x0000000107e17635 chromedriver + 562741\n11  chromedriver                        0x0000000108242b1d chromedriver + 4934429\n12  chromedriver                        0x0000000108247295 chromedriver + 4952725\n13  chromedriver                        0x000000010824c3cf chromedriver + 4973519\n14  chromedriver                        0x0000000108247cba chromedriver + 4955322\n15  chromedriver                        0x000000010822237c chromedriver + 4801404\n16  chromedriver                        0x0000000108261c68 chromedriver + 5061736\n17  chromedriver                        0x0000000108261def chromedriver + 5062127\n18  chromedriver                        0x00000001082775e5 chromedriver + 5150181\n19  libsystem_pthread.dylib             0x00007ff8082544e1 _pthread_start + 125\n20  libsystem_pthread.dylib             0x00007ff80824ff6b thread_start + 15\n",
     "output_type": "error",
     "traceback": [
      "\u001b[0;31m---------------------------------------------------------------------------\u001b[0m",
      "\u001b[0;31mNoSuchWindowException\u001b[0m                     Traceback (most recent call last)",
      "\u001b[0;32m<ipython-input-60-a6b25fead701>\u001b[0m in \u001b[0;36m<module>\u001b[0;34m\u001b[0m\n\u001b[1;32m      1\u001b[0m \u001b[0;31m# print specific product\u001b[0m\u001b[0;34m\u001b[0m\u001b[0;34m\u001b[0m\u001b[0;34m\u001b[0m\u001b[0m\n\u001b[0;32m----> 2\u001b[0;31m \u001b[0mprint\u001b[0m\u001b[0;34m(\u001b[0m\u001b[0mnames\u001b[0m\u001b[0;34m[\u001b[0m\u001b[0;36m0\u001b[0m\u001b[0;34m]\u001b[0m\u001b[0;34m.\u001b[0m\u001b[0mtext\u001b[0m \u001b[0;34m+\u001b[0m \u001b[0;34m'  '\u001b[0m \u001b[0;34m+\u001b[0m \u001b[0mprices\u001b[0m\u001b[0;34m[\u001b[0m\u001b[0;36m0\u001b[0m\u001b[0;34m]\u001b[0m\u001b[0;34m.\u001b[0m\u001b[0mtext\u001b[0m\u001b[0;34m)\u001b[0m\u001b[0;34m\u001b[0m\u001b[0;34m\u001b[0m\u001b[0m\n\u001b[0m",
      "\u001b[0;32m~/opt/anaconda3/lib/python3.8/site-packages/selenium/webdriver/remote/webelement.py\u001b[0m in \u001b[0;36mtext\u001b[0;34m(self)\u001b[0m\n\u001b[1;32m     83\u001b[0m     \u001b[0;32mdef\u001b[0m \u001b[0mtext\u001b[0m\u001b[0;34m(\u001b[0m\u001b[0mself\u001b[0m\u001b[0;34m)\u001b[0m \u001b[0;34m->\u001b[0m \u001b[0mstr\u001b[0m\u001b[0;34m:\u001b[0m\u001b[0;34m\u001b[0m\u001b[0;34m\u001b[0m\u001b[0m\n\u001b[1;32m     84\u001b[0m         \u001b[0;34m\"\"\"The text of the element.\"\"\"\u001b[0m\u001b[0;34m\u001b[0m\u001b[0;34m\u001b[0m\u001b[0m\n\u001b[0;32m---> 85\u001b[0;31m         \u001b[0;32mreturn\u001b[0m \u001b[0mself\u001b[0m\u001b[0;34m.\u001b[0m\u001b[0m_execute\u001b[0m\u001b[0;34m(\u001b[0m\u001b[0mCommand\u001b[0m\u001b[0;34m.\u001b[0m\u001b[0mGET_ELEMENT_TEXT\u001b[0m\u001b[0;34m)\u001b[0m\u001b[0;34m[\u001b[0m\u001b[0;34m'value'\u001b[0m\u001b[0;34m]\u001b[0m\u001b[0;34m\u001b[0m\u001b[0;34m\u001b[0m\u001b[0m\n\u001b[0m\u001b[1;32m     86\u001b[0m \u001b[0;34m\u001b[0m\u001b[0m\n\u001b[1;32m     87\u001b[0m     \u001b[0;32mdef\u001b[0m \u001b[0mclick\u001b[0m\u001b[0;34m(\u001b[0m\u001b[0mself\u001b[0m\u001b[0;34m)\u001b[0m \u001b[0;34m->\u001b[0m \u001b[0;32mNone\u001b[0m\u001b[0;34m:\u001b[0m\u001b[0;34m\u001b[0m\u001b[0;34m\u001b[0m\u001b[0m\n",
      "\u001b[0;32m~/opt/anaconda3/lib/python3.8/site-packages/selenium/webdriver/remote/webelement.py\u001b[0m in \u001b[0;36m_execute\u001b[0;34m(self, command, params)\u001b[0m\n\u001b[1;32m    771\u001b[0m             \u001b[0mparams\u001b[0m \u001b[0;34m=\u001b[0m \u001b[0;34m{\u001b[0m\u001b[0;34m}\u001b[0m\u001b[0;34m\u001b[0m\u001b[0;34m\u001b[0m\u001b[0m\n\u001b[1;32m    772\u001b[0m         \u001b[0mparams\u001b[0m\u001b[0;34m[\u001b[0m\u001b[0;34m'id'\u001b[0m\u001b[0;34m]\u001b[0m \u001b[0;34m=\u001b[0m \u001b[0mself\u001b[0m\u001b[0;34m.\u001b[0m\u001b[0m_id\u001b[0m\u001b[0;34m\u001b[0m\u001b[0;34m\u001b[0m\u001b[0m\n\u001b[0;32m--> 773\u001b[0;31m         \u001b[0;32mreturn\u001b[0m \u001b[0mself\u001b[0m\u001b[0;34m.\u001b[0m\u001b[0m_parent\u001b[0m\u001b[0;34m.\u001b[0m\u001b[0mexecute\u001b[0m\u001b[0;34m(\u001b[0m\u001b[0mcommand\u001b[0m\u001b[0;34m,\u001b[0m \u001b[0mparams\u001b[0m\u001b[0;34m)\u001b[0m\u001b[0;34m\u001b[0m\u001b[0;34m\u001b[0m\u001b[0m\n\u001b[0m\u001b[1;32m    774\u001b[0m \u001b[0;34m\u001b[0m\u001b[0m\n\u001b[1;32m    775\u001b[0m     \u001b[0;32mdef\u001b[0m \u001b[0mfind_element\u001b[0m\u001b[0;34m(\u001b[0m\u001b[0mself\u001b[0m\u001b[0;34m,\u001b[0m \u001b[0mby\u001b[0m\u001b[0;34m=\u001b[0m\u001b[0mBy\u001b[0m\u001b[0;34m.\u001b[0m\u001b[0mID\u001b[0m\u001b[0;34m,\u001b[0m \u001b[0mvalue\u001b[0m\u001b[0;34m=\u001b[0m\u001b[0;32mNone\u001b[0m\u001b[0;34m)\u001b[0m\u001b[0;34m:\u001b[0m\u001b[0;34m\u001b[0m\u001b[0;34m\u001b[0m\u001b[0m\n",
      "\u001b[0;32m~/opt/anaconda3/lib/python3.8/site-packages/selenium/webdriver/remote/webdriver.py\u001b[0m in \u001b[0;36mexecute\u001b[0;34m(self, driver_command, params)\u001b[0m\n\u001b[1;32m    428\u001b[0m         \u001b[0mresponse\u001b[0m \u001b[0;34m=\u001b[0m \u001b[0mself\u001b[0m\u001b[0;34m.\u001b[0m\u001b[0mcommand_executor\u001b[0m\u001b[0;34m.\u001b[0m\u001b[0mexecute\u001b[0m\u001b[0;34m(\u001b[0m\u001b[0mdriver_command\u001b[0m\u001b[0;34m,\u001b[0m \u001b[0mparams\u001b[0m\u001b[0;34m)\u001b[0m\u001b[0;34m\u001b[0m\u001b[0;34m\u001b[0m\u001b[0m\n\u001b[1;32m    429\u001b[0m         \u001b[0;32mif\u001b[0m \u001b[0mresponse\u001b[0m\u001b[0;34m:\u001b[0m\u001b[0;34m\u001b[0m\u001b[0;34m\u001b[0m\u001b[0m\n\u001b[0;32m--> 430\u001b[0;31m             \u001b[0mself\u001b[0m\u001b[0;34m.\u001b[0m\u001b[0merror_handler\u001b[0m\u001b[0;34m.\u001b[0m\u001b[0mcheck_response\u001b[0m\u001b[0;34m(\u001b[0m\u001b[0mresponse\u001b[0m\u001b[0;34m)\u001b[0m\u001b[0;34m\u001b[0m\u001b[0;34m\u001b[0m\u001b[0m\n\u001b[0m\u001b[1;32m    431\u001b[0m             response['value'] = self._unwrap_value(\n\u001b[1;32m    432\u001b[0m                 response.get('value', None))\n",
      "\u001b[0;32m~/opt/anaconda3/lib/python3.8/site-packages/selenium/webdriver/remote/errorhandler.py\u001b[0m in \u001b[0;36mcheck_response\u001b[0;34m(self, response)\u001b[0m\n\u001b[1;32m    245\u001b[0m                 \u001b[0malert_text\u001b[0m \u001b[0;34m=\u001b[0m \u001b[0mvalue\u001b[0m\u001b[0;34m[\u001b[0m\u001b[0;34m'alert'\u001b[0m\u001b[0;34m]\u001b[0m\u001b[0;34m.\u001b[0m\u001b[0mget\u001b[0m\u001b[0;34m(\u001b[0m\u001b[0;34m'text'\u001b[0m\u001b[0;34m)\u001b[0m\u001b[0;34m\u001b[0m\u001b[0;34m\u001b[0m\u001b[0m\n\u001b[1;32m    246\u001b[0m             \u001b[0;32mraise\u001b[0m \u001b[0mexception_class\u001b[0m\u001b[0;34m(\u001b[0m\u001b[0mmessage\u001b[0m\u001b[0;34m,\u001b[0m \u001b[0mscreen\u001b[0m\u001b[0;34m,\u001b[0m \u001b[0mstacktrace\u001b[0m\u001b[0;34m,\u001b[0m \u001b[0malert_text\u001b[0m\u001b[0;34m)\u001b[0m  \u001b[0;31m# type: ignore[call-arg]  # mypy is not smart enough here\u001b[0m\u001b[0;34m\u001b[0m\u001b[0;34m\u001b[0m\u001b[0m\n\u001b[0;32m--> 247\u001b[0;31m         \u001b[0;32mraise\u001b[0m \u001b[0mexception_class\u001b[0m\u001b[0;34m(\u001b[0m\u001b[0mmessage\u001b[0m\u001b[0;34m,\u001b[0m \u001b[0mscreen\u001b[0m\u001b[0;34m,\u001b[0m \u001b[0mstacktrace\u001b[0m\u001b[0;34m)\u001b[0m\u001b[0;34m\u001b[0m\u001b[0;34m\u001b[0m\u001b[0m\n\u001b[0m\u001b[1;32m    248\u001b[0m \u001b[0;34m\u001b[0m\u001b[0m\n\u001b[1;32m    249\u001b[0m     \u001b[0;32mdef\u001b[0m \u001b[0m_value_or_default\u001b[0m\u001b[0;34m(\u001b[0m\u001b[0mself\u001b[0m\u001b[0;34m,\u001b[0m \u001b[0mobj\u001b[0m\u001b[0;34m:\u001b[0m \u001b[0mMapping\u001b[0m\u001b[0;34m[\u001b[0m\u001b[0m_KT\u001b[0m\u001b[0;34m,\u001b[0m \u001b[0m_VT\u001b[0m\u001b[0;34m]\u001b[0m\u001b[0;34m,\u001b[0m \u001b[0mkey\u001b[0m\u001b[0;34m:\u001b[0m \u001b[0m_KT\u001b[0m\u001b[0;34m,\u001b[0m \u001b[0mdefault\u001b[0m\u001b[0;34m:\u001b[0m \u001b[0m_VT\u001b[0m\u001b[0;34m)\u001b[0m \u001b[0;34m->\u001b[0m \u001b[0m_VT\u001b[0m\u001b[0;34m:\u001b[0m\u001b[0;34m\u001b[0m\u001b[0;34m\u001b[0m\u001b[0m\n",
      "\u001b[0;31mNoSuchWindowException\u001b[0m: Message: no such window: window was already closed\n  (Session info: chrome=102.0.5005.61)\nStacktrace:\n0   chromedriver                        0x00000001082702c9 chromedriver + 5120713\n1   chromedriver                        0x00000001081fee33 chromedriver + 4656691\n2   chromedriver                        0x0000000107dee158 chromedriver + 393560\n3   chromedriver                        0x0000000107ddd3a7 chromedriver + 324519\n4   chromedriver                        0x0000000107dde822 chromedriver + 329762\n5   chromedriver                        0x0000000107dd730c chromedriver + 299788\n6   chromedriver                        0x0000000107def5b2 chromedriver + 398770\n7   chromedriver                        0x0000000107e525fb chromedriver + 804347\n8   chromedriver                        0x0000000107e40373 chromedriver + 729971\n9   chromedriver                        0x0000000107e16609 chromedriver + 558601\n10  chromedriver                        0x0000000107e17635 chromedriver + 562741\n11  chromedriver                        0x0000000108242b1d chromedriver + 4934429\n12  chromedriver                        0x0000000108247295 chromedriver + 4952725\n13  chromedriver                        0x000000010824c3cf chromedriver + 4973519\n14  chromedriver                        0x0000000108247cba chromedriver + 4955322\n15  chromedriver                        0x000000010822237c chromedriver + 4801404\n16  chromedriver                        0x0000000108261c68 chromedriver + 5061736\n17  chromedriver                        0x0000000108261def chromedriver + 5062127\n18  chromedriver                        0x00000001082775e5 chromedriver + 5150181\n19  libsystem_pthread.dylib             0x00007ff8082544e1 _pthread_start + 125\n20  libsystem_pthread.dylib             0x00007ff80824ff6b thread_start + 15\n"
     ]
    }
   ],
   "source": [
    "# print specific product\n",
    "print(names[0].text + '  ' + prices[0].text)"
   ]
  },
  {
   "cell_type": "markdown",
   "metadata": {},
   "source": [
    "##### ID - Locator (use web_2)"
   ]
  },
  {
   "cell_type": "code",
   "execution_count": 62,
   "metadata": {},
   "outputs": [
    {
     "name": "stderr",
     "output_type": "stream",
     "text": [
      "<ipython-input-62-c3a49f9bb74c>:2: DeprecationWarning: executable_path has been deprecated, please pass in a Service object\n",
      "  driver = webdriver.Chrome('/Users/yuhao/Documents/Webdriver/chromedriver')\n",
      "<ipython-input-62-c3a49f9bb74c>:9: DeprecationWarning: find_element_by_* commands are deprecated. Please use find_element() instead\n",
      "  search = driver.find_element_by_id('search_query_top')\n"
     ]
    }
   ],
   "source": [
    "# initialize Chorme driver\n",
    "driver = webdriver.Chrome('/Users/yuhao/Documents/Webdriver/chromedriver')\n",
    "\n",
    "# open website\n",
    "driver.get(web_2)\n",
    "\n",
    "time.sleep(1) # after we open the window, the whole process will wait for 1s\n",
    "\n",
    "search = driver.find_element_by_id('search_query_top')\n",
    "#click\n",
    "search.click()\n",
    "time.sleep(1)\n",
    "\n",
    "search.send_keys('hellohello')"
   ]
  },
  {
   "cell_type": "markdown",
   "metadata": {},
   "source": [
    "##### Name - Locator"
   ]
  },
  {
   "cell_type": "code",
   "execution_count": 63,
   "metadata": {},
   "outputs": [
    {
     "name": "stderr",
     "output_type": "stream",
     "text": [
      "<ipython-input-63-3ab1ec80d059>:1: DeprecationWarning: find_element_by_name is deprecated. Please use find_element(by=By.NAME, value=name) instead\n",
      "  search_button = driver.find_element_by_name('submit_search')\n"
     ]
    }
   ],
   "source": [
    "search_button = driver.find_element_by_name('submit_search')\n",
    "search_button.click()"
   ]
  },
  {
   "cell_type": "markdown",
   "metadata": {},
   "source": [
    "##### LinkText - Locator"
   ]
  },
  {
   "cell_type": "code",
   "execution_count": null,
   "metadata": {},
   "outputs": [],
   "source": [
    "contact = driver.find_element_by_link_text('Contact us')"
   ]
  },
  {
   "cell_type": "markdown",
   "metadata": {},
   "source": [
    "##### Partial LinkText - Locator"
   ]
  },
  {
   "cell_type": "code",
   "execution_count": 64,
   "metadata": {
    "scrolled": true
   },
   "outputs": [
    {
     "name": "stderr",
     "output_type": "stream",
     "text": [
      "<ipython-input-64-0e05bca73161>:2: DeprecationWarning: executable_path has been deprecated, please pass in a Service object\n",
      "  driver = webdriver.Chrome('/Users/yuhao/Documents/Webdriver/chromedriver')\n",
      "<ipython-input-64-0e05bca73161>:9: DeprecationWarning: find_element_by_partial_link_text is deprecated. Please use find_element(by=By.PARTIAL_LINK_TEXT, value=link_text) instead\n",
      "  contact_partial = driver.find_element_by_partial_link_text('ntact u')\n"
     ]
    }
   ],
   "source": [
    "# initialize Chorme driver\n",
    "driver = webdriver.Chrome('/Users/yuhao/Documents/Webdriver/chromedriver')\n",
    "\n",
    "# open website\n",
    "driver.get(web_2)\n",
    "\n",
    "time.sleep(1) # after we open the window, the whole process will wait for 1s\n",
    "\n",
    "contact_partial = driver.find_element_by_partial_link_text('ntact u')\n",
    "contact_partial.click()"
   ]
  },
  {
   "cell_type": "markdown",
   "metadata": {},
   "source": [
    "### Part 3 - Different ways to use Locators "
   ]
  },
  {
   "cell_type": "code",
   "execution_count": null,
   "metadata": {},
   "outputs": [],
   "source": []
  },
  {
   "cell_type": "code",
   "execution_count": null,
   "metadata": {},
   "outputs": [],
   "source": []
  },
  {
   "cell_type": "code",
   "execution_count": null,
   "metadata": {},
   "outputs": [],
   "source": []
  },
  {
   "cell_type": "markdown",
   "metadata": {},
   "source": [
    "### Part 4 - Selenium in Action"
   ]
  },
  {
   "cell_type": "code",
   "execution_count": 66,
   "metadata": {},
   "outputs": [
    {
     "name": "stderr",
     "output_type": "stream",
     "text": [
      "<ipython-input-66-3d1a8f3624dd>:2: DeprecationWarning: executable_path has been deprecated, please pass in a Service object\n",
      "  driver = webdriver.Chrome('/Users/yuhao/Documents/Webdriver/chromedriver')\n",
      "<ipython-input-66-3d1a8f3624dd>:7: DeprecationWarning: find_element_by_* commands are deprecated. Please use find_element() instead\n",
      "  search = driver.find_element_by_id('search_query_top')\n",
      "<ipython-input-66-3d1a8f3624dd>:16: DeprecationWarning: find_element_by_name is deprecated. Please use find_element(by=By.NAME, value=name) instead\n",
      "  search_button = driver.find_element_by_name('submit_search')\n",
      "<ipython-input-66-3d1a8f3624dd>:24: DeprecationWarning: find_element_by_link_text is deprecated. Please use find_element(by=By.LINK_TEXT, value=link_text) instead\n",
      "  contact_us = driver.find_element_by_link_text('Contact us')\n"
     ]
    }
   ],
   "source": [
    "# open website\n",
    "driver = webdriver.Chrome('/Users/yuhao/Documents/Webdriver/chromedriver')\n",
    "driver.get(web_2)\n",
    "time.sleep(1)\n",
    "\n",
    "#send keys and click on button\n",
    "search = driver.find_element_by_id('search_query_top')\n",
    "search.click()\n",
    "time.sleep(1)\n",
    "\n",
    "# type a text inside the search bar\n",
    "search.send_keys('hello')\n",
    "time.sleep(1)\n",
    "\n",
    "# submit your search request\n",
    "search_button = driver.find_element_by_name('submit_search')\n",
    "search_button.click()\n",
    "\n",
    "#go back\n",
    "driver.back()\n",
    "time.sleep(1)\n",
    "\n",
    "# click Contact us - Link Text Locator\n",
    "contact_us = driver.find_element_by_link_text('Contact us')\n",
    "contact_us.click()\n",
    "time.sleep(1)\n",
    "\n",
    "# close driver at the end\n",
    "driver.close()"
   ]
  },
  {
   "cell_type": "markdown",
   "metadata": {},
   "source": [
    "### Optional : Run everything in one Step - Headless "
   ]
  },
  {
   "cell_type": "code",
   "execution_count": 68,
   "metadata": {},
   "outputs": [
    {
     "name": "stderr",
     "output_type": "stream",
     "text": [
      "<ipython-input-68-987a887dad63>:5: DeprecationWarning: executable_path has been deprecated, please pass in a Service object\n",
      "  driver = webdriver.Chrome('/Users/yuhao/Documents/Webdriver/chromedriver', options=chorme_options)\n"
     ]
    },
    {
     "name": "stdout",
     "output_type": "stream",
     "text": [
      "Website was opened\n"
     ]
    },
    {
     "name": "stderr",
     "output_type": "stream",
     "text": [
      "<ipython-input-68-987a887dad63>:12: DeprecationWarning: find_element_by_* commands are deprecated. Please use find_element() instead\n",
      "  search = driver.find_element_by_id('search_query_top')\n"
     ]
    },
    {
     "name": "stdout",
     "output_type": "stream",
     "text": [
      "A text was typed inside the search bar\n",
      "Search Request was submitted\n"
     ]
    },
    {
     "name": "stderr",
     "output_type": "stream",
     "text": [
      "<ipython-input-68-987a887dad63>:25: DeprecationWarning: find_element_by_name is deprecated. Please use find_element(by=By.NAME, value=name) instead\n",
      "  search_button = driver.find_element_by_name('submit_search')\n"
     ]
    },
    {
     "name": "stdout",
     "output_type": "stream",
     "text": [
      "Go back to Initial Page\n",
      "Contact Us button was clicked using the Link Text Locator\n"
     ]
    },
    {
     "name": "stderr",
     "output_type": "stream",
     "text": [
      "<ipython-input-68-987a887dad63>:37: DeprecationWarning: find_element_by_link_text is deprecated. Please use find_element(by=By.LINK_TEXT, value=link_text) instead\n",
      "  contact_us = driver.find_element_by_link_text('Contact us')\n"
     ]
    },
    {
     "name": "stdout",
     "output_type": "stream",
     "text": [
      "Driver was closed - Bye Bye\n"
     ]
    }
   ],
   "source": [
    "chorme_options = Options()\n",
    "chorme_options.add_argument('--headless')\n",
    "\n",
    "# open website\n",
    "driver = webdriver.Chrome('/Users/yuhao/Documents/Webdriver/chromedriver', options=chorme_options)\n",
    "driver.get(web_2)\n",
    "time.sleep(1)\n",
    "\n",
    "print('Website was opened')\n",
    "\n",
    "#send keys and click on button\n",
    "search = driver.find_element_by_id('search_query_top')\n",
    "search.click()\n",
    "time.sleep(1)\n",
    "\n",
    "print('A text was typed inside the search bar')\n",
    "\n",
    "# type a text inside the search bar\n",
    "search.send_keys('hello')\n",
    "time.sleep(1)\n",
    "\n",
    "print('Search Request was submitted')\n",
    "\n",
    "# submit your search request\n",
    "search_button = driver.find_element_by_name('submit_search')\n",
    "search_button.click()\n",
    "\n",
    "print('Go back to Initial Page')\n",
    "\n",
    "#go back\n",
    "driver.back()\n",
    "time.sleep(1)\n",
    "\n",
    "print('Contact Us button was clicked using the Link Text Locator')\n",
    "\n",
    "# click Contact us - Link Text Locator\n",
    "contact_us = driver.find_element_by_link_text('Contact us')\n",
    "contact_us.click()\n",
    "time.sleep(1)\n",
    "\n",
    "# close driver at the end\n",
    "driver.close()\n",
    "\n",
    "print('Driver was closed - Bye Bye')"
   ]
  },
  {
   "cell_type": "code",
   "execution_count": null,
   "metadata": {},
   "outputs": [],
   "source": []
  }
 ],
 "metadata": {
  "kernelspec": {
   "display_name": "Python 3",
   "language": "python",
   "name": "python3"
  },
  "language_info": {
   "codemirror_mode": {
    "name": "ipython",
    "version": 3
   },
   "file_extension": ".py",
   "mimetype": "text/x-python",
   "name": "python",
   "nbconvert_exporter": "python",
   "pygments_lexer": "ipython3",
   "version": "3.8.5"
  }
 },
 "nbformat": 4,
 "nbformat_minor": 4
}
