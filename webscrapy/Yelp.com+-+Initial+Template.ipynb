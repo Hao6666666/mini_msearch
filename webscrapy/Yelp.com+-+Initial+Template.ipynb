{
 "cells": [
  {
   "cell_type": "markdown",
   "metadata": {},
   "source": [
    "### Import Packages"
   ]
  },
  {
   "cell_type": "code",
   "execution_count": 21,
   "metadata": {},
   "outputs": [],
   "source": [
    "from selenium import webdriver\n",
    "import pandas as pd\n",
    "import time"
   ]
  },
  {
   "cell_type": "markdown",
   "metadata": {},
   "source": [
    "### Set Up"
   ]
  },
  {
   "cell_type": "code",
   "execution_count": 22,
   "metadata": {},
   "outputs": [
    {
     "name": "stderr",
     "output_type": "stream",
     "text": [
      "<ipython-input-22-a7a818082af9>:1: DeprecationWarning: executable_path has been deprecated, please pass in a Service object\n",
      "  driver = webdriver.Chrome('/Users/yuhao/Documents/Webdriver/chromedriver')\n"
     ]
    }
   ],
   "source": [
    "driver = webdriver.Chrome('/Users/yuhao/Documents/Webdriver/chromedriver')\n",
    "web = 'https://www.yelp.com/search?find_desc=Dentists&find_loc=San+Francisco%2C+CA'\n",
    "driver.get(web)\n",
    "time.sleep(1)"
   ]
  },
  {
   "cell_type": "markdown",
   "metadata": {},
   "source": [
    "### Accept Cookies"
   ]
  },
  {
   "cell_type": "code",
   "execution_count": 23,
   "metadata": {},
   "outputs": [],
   "source": [
    "# cookies = driver.find_element_by_id('onetrust-accept-btn-handler')\n",
    "# cookies.click()"
   ]
  },
  {
   "cell_type": "markdown",
   "metadata": {},
   "source": [
    "### Target The Data We Want To Scrape"
   ]
  },
  {
   "cell_type": "code",
   "execution_count": 37,
   "metadata": {},
   "outputs": [
    {
     "name": "stderr",
     "output_type": "stream",
     "text": [
      "<ipython-input-37-1a93a78b333c>:2: DeprecationWarning: find_elements_by_xpath is deprecated. Please use find_elements(by=By.XPATH, value=xpath) instead\n",
      "  names = driver.find_elements_by_xpath('//h3[@class=\"css-1yx1rzi\"]/span/a')\n",
      "<ipython-input-37-1a93a78b333c>:8: DeprecationWarning: find_elements_by_xpath is deprecated. Please use find_elements(by=By.XPATH, value=xpath) instead\n",
      "  expertise = driver.find_elements_by_xpath('//div[@class=\" border-color--default__09f24__NPAKY\"]/div/div/div/p')\n",
      "<ipython-input-37-1a93a78b333c>:11: DeprecationWarning: find_elements_by_xpath is deprecated. Please use find_elements(by=By.XPATH, value=xpath) instead\n",
      "  stars = driver.find_elements_by_xpath('//div[@class=\" attribute__09f24__hqUj7 display--inline-block__09f24__fEDiJ margin-r1__09f24__rN_ga border-color--default__09f24__NPAKY\"]/span/div')\n",
      "<ipython-input-37-1a93a78b333c>:13: DeprecationWarning: find_elements_by_xpath is deprecated. Please use find_elements(by=By.XPATH, value=xpath) instead\n",
      "  count = driver.find_elements_by_xpath('//div[@class=\" attribute__09f24__hqUj7 display--inline-block__09f24__fEDiJ border-color--default__09f24__NPAKY\"]/span')\n"
     ]
    }
   ],
   "source": [
    "# names\n",
    "names = driver.find_elements_by_xpath('//h3[@class=\"css-1yx1rzi\"]/span/a')\n",
    "# telephone\n",
    "\n",
    "# address\n",
    "\n",
    "# expertise\n",
    "expertise = driver.find_elements_by_xpath('//div[@class=\" border-color--default__09f24__NPAKY\"]/div/div/div/p')\n",
    "\n",
    "# stars\n",
    "stars = driver.find_elements_by_xpath('//div[@class=\" attribute__09f24__hqUj7 display--inline-block__09f24__fEDiJ margin-r1__09f24__rN_ga border-color--default__09f24__NPAKY\"]/span/div')\n",
    "\n",
    "# rating count\n",
    "count = driver.find_elements_by_xpath('//div[@class=\" attribute__09f24__hqUj7 display--inline-block__09f24__fEDiJ border-color--default__09f24__NPAKY\"]/span')"
   ]
  },
  {
   "cell_type": "code",
   "execution_count": 39,
   "metadata": {},
   "outputs": [
    {
     "name": "stdout",
     "output_type": "stream",
     "text": [
      "60\n",
      "103\n",
      "215\n",
      "13\n",
      "123\n",
      "45\n",
      "60\n",
      "72\n",
      "479\n",
      "218\n",
      "103\n",
      "113\n",
      "250\n",
      "357\n",
      "163\n",
      "123\n",
      "237\n",
      "140\n",
      "47\n"
     ]
    }
   ],
   "source": [
    "# for c in stars:\n",
    "#     print(c.get_attribute('aria-label'))\n",
    "\n",
    "for c in count:\n",
    "    print(c.text)"
   ]
  },
  {
   "cell_type": "markdown",
   "metadata": {},
   "source": [
    "### Create Dataframe"
   ]
  },
  {
   "cell_type": "code",
   "execution_count": 40,
   "metadata": {},
   "outputs": [],
   "source": [
    "df = pd.DataFrame(columns=['Name', 'expertise', 'stars', 'count'])"
   ]
  },
  {
   "cell_type": "markdown",
   "metadata": {},
   "source": [
    "### Empty Lists"
   ]
  },
  {
   "cell_type": "markdown",
   "metadata": {},
   "source": [
    "1. Loop through the results\n",
    "2. Append the results in a list\n",
    "3. Use this lists as a value part for the dictionary (Remember: Dictionaries consist of Key-Value Pairs)\n",
    "3. Hand this Dictionary over to the Pandas Dataframe"
   ]
  },
  {
   "cell_type": "code",
   "execution_count": 50,
   "metadata": {},
   "outputs": [],
   "source": [
    "name_list = [n.text for n in names]\n",
    "expertise_list = [expertise[i].text for i in range(0, len(expertise), 2)]\n",
    "stars_list = [s.get_attribute('aria-label') for s in stars]\n",
    "count_list = [c.text for c in count]"
   ]
  },
  {
   "cell_type": "code",
   "execution_count": 51,
   "metadata": {},
   "outputs": [
    {
     "data": {
      "text/plain": [
       "['Mission Dental Group SF',\n",
       " 'Zen Dental Studio',\n",
       " 'G Dental Group',\n",
       " 'Franklin Dental Group',\n",
       " 'David T Ho, DDS',\n",
       " 'Joshua B Bernstein, DDS',\n",
       " 'Caroline Le, DDS',\n",
       " 'Phillip H. Saddler, DDS - Saddler Family Dentistry',\n",
       " 'All Smiles Dental',\n",
       " 'Pacific Heights Dental Studio',\n",
       " 'Zen Dental Studio',\n",
       " 'Robert Phong Ho, DDS',\n",
       " 'Jeremy J Velasco, DDS',\n",
       " 'Washington Square Park Dental',\n",
       " 'Golden Gate Dental',\n",
       " 'David T Ho, DDS',\n",
       " 'Josh Berd, DDS - The Dentist Group',\n",
       " 'Pastel Dental',\n",
       " 'Growney Maurice Jr, DDS']"
      ]
     },
     "execution_count": 51,
     "metadata": {},
     "output_type": "execute_result"
    }
   ],
   "source": [
    "name_list"
   ]
  },
  {
   "cell_type": "code",
   "execution_count": 52,
   "metadata": {},
   "outputs": [
    {
     "data": {
      "text/plain": [
       "['EndodontistsCosmetic DentistsGeneral DentistryMission',\n",
       " 'OrthodontistsGeneral DentistryCosmetic DentistsSoMa',\n",
       " 'Cosmetic DentistsGeneral Dentistry\\nVerified License',\n",
       " 'EndodontistsGeneral DentistryCosmetic DentistsMarina/Cow Hollow',\n",
       " 'DentistsLower Pacific Heights',\n",
       " 'Cosmetic DentistsGeneral Dentistry\\nVerified License',\n",
       " 'Cosmetic DentistsGeneral DentistryUnion Square',\n",
       " 'General DentistryCosmetic Dentists\\nVerified LicenseNorth Oakland',\n",
       " 'General DentistryEndodontistsOrthodontistsWest Portal',\n",
       " 'General DentistryCosmetic DentistsPeriodontists\\nVerified LicensePacific Heights',\n",
       " 'General DentistryCosmetic DentistsOrthodontistsSoMa',\n",
       " 'General DentistryInner Richmond',\n",
       " 'General DentistryCosmetic DentistsUnion Square',\n",
       " 'General DentistryCosmetic DentistsOral Surgeons\\nVerified LicenseRussian Hill',\n",
       " 'Cosmetic DentistsGeneral DentistryInner Richmond',\n",
       " 'General DentistryLower Pacific Heights',\n",
       " 'Cosmetic DentistsGeneral DentistryOrthodontistsHayes Valley',\n",
       " 'Cosmetic DentistsEndodontistsGeneral DentistryLaurel Heights',\n",
       " 'General DentistryWest Portal']"
      ]
     },
     "execution_count": 52,
     "metadata": {},
     "output_type": "execute_result"
    }
   ],
   "source": [
    "expertise_list"
   ]
  },
  {
   "cell_type": "code",
   "execution_count": 53,
   "metadata": {
    "scrolled": false
   },
   "outputs": [
    {
     "data": {
      "text/plain": [
       "['5 star rating',\n",
       " '5 star rating',\n",
       " '5 star rating',\n",
       " '5 star rating',\n",
       " '5 star rating',\n",
       " '5 star rating',\n",
       " '5 star rating',\n",
       " '4.5 star rating',\n",
       " '5 star rating',\n",
       " '5 star rating',\n",
       " '5 star rating',\n",
       " '5 star rating',\n",
       " '5 star rating',\n",
       " '4.5 star rating',\n",
       " '5 star rating',\n",
       " '5 star rating',\n",
       " '4.5 star rating',\n",
       " '5 star rating',\n",
       " '5 star rating']"
      ]
     },
     "execution_count": 53,
     "metadata": {},
     "output_type": "execute_result"
    }
   ],
   "source": [
    "stars_list"
   ]
  },
  {
   "cell_type": "code",
   "execution_count": 54,
   "metadata": {
    "scrolled": true
   },
   "outputs": [
    {
     "data": {
      "text/plain": [
       "['60',\n",
       " '103',\n",
       " '215',\n",
       " '13',\n",
       " '123',\n",
       " '45',\n",
       " '60',\n",
       " '72',\n",
       " '479',\n",
       " '218',\n",
       " '103',\n",
       " '113',\n",
       " '250',\n",
       " '357',\n",
       " '163',\n",
       " '123',\n",
       " '237',\n",
       " '140',\n",
       " '47']"
      ]
     },
     "execution_count": 54,
     "metadata": {},
     "output_type": "execute_result"
    }
   ],
   "source": [
    "count_list"
   ]
  },
  {
   "cell_type": "markdown",
   "metadata": {},
   "source": [
    "### Dictionary"
   ]
  },
  {
   "cell_type": "code",
   "execution_count": 58,
   "metadata": {},
   "outputs": [],
   "source": [
    "d = {'Name':name_list, 'Expertise':expertise_list, 'Stars': stars_list, 'Counts':count_list}"
   ]
  },
  {
   "cell_type": "markdown",
   "metadata": {},
   "source": [
    "### Dictionary to Pandas Dataframe"
   ]
  },
  {
   "cell_type": "code",
   "execution_count": 60,
   "metadata": {},
   "outputs": [
    {
     "data": {
      "text/html": [
       "<div>\n",
       "<style scoped>\n",
       "    .dataframe tbody tr th:only-of-type {\n",
       "        vertical-align: middle;\n",
       "    }\n",
       "\n",
       "    .dataframe tbody tr th {\n",
       "        vertical-align: top;\n",
       "    }\n",
       "\n",
       "    .dataframe thead th {\n",
       "        text-align: right;\n",
       "    }\n",
       "</style>\n",
       "<table border=\"1\" class=\"dataframe\">\n",
       "  <thead>\n",
       "    <tr style=\"text-align: right;\">\n",
       "      <th></th>\n",
       "      <th>Name</th>\n",
       "      <th>Expertise</th>\n",
       "      <th>Stars</th>\n",
       "      <th>Counts</th>\n",
       "    </tr>\n",
       "  </thead>\n",
       "  <tbody>\n",
       "    <tr>\n",
       "      <th>0</th>\n",
       "      <td>Mission Dental Group SF</td>\n",
       "      <td>EndodontistsCosmetic DentistsGeneral Dentistry...</td>\n",
       "      <td>5 star rating</td>\n",
       "      <td>60</td>\n",
       "    </tr>\n",
       "    <tr>\n",
       "      <th>1</th>\n",
       "      <td>Zen Dental Studio</td>\n",
       "      <td>OrthodontistsGeneral DentistryCosmetic Dentist...</td>\n",
       "      <td>5 star rating</td>\n",
       "      <td>103</td>\n",
       "    </tr>\n",
       "    <tr>\n",
       "      <th>2</th>\n",
       "      <td>G Dental Group</td>\n",
       "      <td>Cosmetic DentistsGeneral Dentistry\\nVerified L...</td>\n",
       "      <td>5 star rating</td>\n",
       "      <td>215</td>\n",
       "    </tr>\n",
       "    <tr>\n",
       "      <th>3</th>\n",
       "      <td>Franklin Dental Group</td>\n",
       "      <td>EndodontistsGeneral DentistryCosmetic Dentists...</td>\n",
       "      <td>5 star rating</td>\n",
       "      <td>13</td>\n",
       "    </tr>\n",
       "    <tr>\n",
       "      <th>4</th>\n",
       "      <td>David T Ho, DDS</td>\n",
       "      <td>DentistsLower Pacific Heights</td>\n",
       "      <td>5 star rating</td>\n",
       "      <td>123</td>\n",
       "    </tr>\n",
       "    <tr>\n",
       "      <th>5</th>\n",
       "      <td>Joshua B Bernstein, DDS</td>\n",
       "      <td>Cosmetic DentistsGeneral Dentistry\\nVerified L...</td>\n",
       "      <td>5 star rating</td>\n",
       "      <td>45</td>\n",
       "    </tr>\n",
       "    <tr>\n",
       "      <th>6</th>\n",
       "      <td>Caroline Le, DDS</td>\n",
       "      <td>Cosmetic DentistsGeneral DentistryUnion Square</td>\n",
       "      <td>5 star rating</td>\n",
       "      <td>60</td>\n",
       "    </tr>\n",
       "    <tr>\n",
       "      <th>7</th>\n",
       "      <td>Phillip H. Saddler, DDS - Saddler Family Denti...</td>\n",
       "      <td>General DentistryCosmetic Dentists\\nVerified L...</td>\n",
       "      <td>4.5 star rating</td>\n",
       "      <td>72</td>\n",
       "    </tr>\n",
       "    <tr>\n",
       "      <th>8</th>\n",
       "      <td>All Smiles Dental</td>\n",
       "      <td>General DentistryEndodontistsOrthodontistsWest...</td>\n",
       "      <td>5 star rating</td>\n",
       "      <td>479</td>\n",
       "    </tr>\n",
       "    <tr>\n",
       "      <th>9</th>\n",
       "      <td>Pacific Heights Dental Studio</td>\n",
       "      <td>General DentistryCosmetic DentistsPeriodontist...</td>\n",
       "      <td>5 star rating</td>\n",
       "      <td>218</td>\n",
       "    </tr>\n",
       "    <tr>\n",
       "      <th>10</th>\n",
       "      <td>Zen Dental Studio</td>\n",
       "      <td>General DentistryCosmetic DentistsOrthodontist...</td>\n",
       "      <td>5 star rating</td>\n",
       "      <td>103</td>\n",
       "    </tr>\n",
       "    <tr>\n",
       "      <th>11</th>\n",
       "      <td>Robert Phong Ho, DDS</td>\n",
       "      <td>General DentistryInner Richmond</td>\n",
       "      <td>5 star rating</td>\n",
       "      <td>113</td>\n",
       "    </tr>\n",
       "    <tr>\n",
       "      <th>12</th>\n",
       "      <td>Jeremy J Velasco, DDS</td>\n",
       "      <td>General DentistryCosmetic DentistsUnion Square</td>\n",
       "      <td>5 star rating</td>\n",
       "      <td>250</td>\n",
       "    </tr>\n",
       "    <tr>\n",
       "      <th>13</th>\n",
       "      <td>Washington Square Park Dental</td>\n",
       "      <td>General DentistryCosmetic DentistsOral Surgeon...</td>\n",
       "      <td>4.5 star rating</td>\n",
       "      <td>357</td>\n",
       "    </tr>\n",
       "    <tr>\n",
       "      <th>14</th>\n",
       "      <td>Golden Gate Dental</td>\n",
       "      <td>Cosmetic DentistsGeneral DentistryInner Richmond</td>\n",
       "      <td>5 star rating</td>\n",
       "      <td>163</td>\n",
       "    </tr>\n",
       "    <tr>\n",
       "      <th>15</th>\n",
       "      <td>David T Ho, DDS</td>\n",
       "      <td>General DentistryLower Pacific Heights</td>\n",
       "      <td>5 star rating</td>\n",
       "      <td>123</td>\n",
       "    </tr>\n",
       "    <tr>\n",
       "      <th>16</th>\n",
       "      <td>Josh Berd, DDS - The Dentist Group</td>\n",
       "      <td>Cosmetic DentistsGeneral DentistryOrthodontist...</td>\n",
       "      <td>4.5 star rating</td>\n",
       "      <td>237</td>\n",
       "    </tr>\n",
       "    <tr>\n",
       "      <th>17</th>\n",
       "      <td>Pastel Dental</td>\n",
       "      <td>Cosmetic DentistsEndodontistsGeneral Dentistry...</td>\n",
       "      <td>5 star rating</td>\n",
       "      <td>140</td>\n",
       "    </tr>\n",
       "    <tr>\n",
       "      <th>18</th>\n",
       "      <td>Growney Maurice Jr, DDS</td>\n",
       "      <td>General DentistryWest Portal</td>\n",
       "      <td>5 star rating</td>\n",
       "      <td>47</td>\n",
       "    </tr>\n",
       "  </tbody>\n",
       "</table>\n",
       "</div>"
      ],
      "text/plain": [
       "                                                 Name  \\\n",
       "0                             Mission Dental Group SF   \n",
       "1                                   Zen Dental Studio   \n",
       "2                                      G Dental Group   \n",
       "3                               Franklin Dental Group   \n",
       "4                                     David T Ho, DDS   \n",
       "5                             Joshua B Bernstein, DDS   \n",
       "6                                    Caroline Le, DDS   \n",
       "7   Phillip H. Saddler, DDS - Saddler Family Denti...   \n",
       "8                                   All Smiles Dental   \n",
       "9                       Pacific Heights Dental Studio   \n",
       "10                                  Zen Dental Studio   \n",
       "11                               Robert Phong Ho, DDS   \n",
       "12                              Jeremy J Velasco, DDS   \n",
       "13                      Washington Square Park Dental   \n",
       "14                                 Golden Gate Dental   \n",
       "15                                    David T Ho, DDS   \n",
       "16                 Josh Berd, DDS - The Dentist Group   \n",
       "17                                      Pastel Dental   \n",
       "18                            Growney Maurice Jr, DDS   \n",
       "\n",
       "                                            Expertise            Stars Counts  \n",
       "0   EndodontistsCosmetic DentistsGeneral Dentistry...    5 star rating     60  \n",
       "1   OrthodontistsGeneral DentistryCosmetic Dentist...    5 star rating    103  \n",
       "2   Cosmetic DentistsGeneral Dentistry\\nVerified L...    5 star rating    215  \n",
       "3   EndodontistsGeneral DentistryCosmetic Dentists...    5 star rating     13  \n",
       "4                       DentistsLower Pacific Heights    5 star rating    123  \n",
       "5   Cosmetic DentistsGeneral Dentistry\\nVerified L...    5 star rating     45  \n",
       "6      Cosmetic DentistsGeneral DentistryUnion Square    5 star rating     60  \n",
       "7   General DentistryCosmetic Dentists\\nVerified L...  4.5 star rating     72  \n",
       "8   General DentistryEndodontistsOrthodontistsWest...    5 star rating    479  \n",
       "9   General DentistryCosmetic DentistsPeriodontist...    5 star rating    218  \n",
       "10  General DentistryCosmetic DentistsOrthodontist...    5 star rating    103  \n",
       "11                    General DentistryInner Richmond    5 star rating    113  \n",
       "12     General DentistryCosmetic DentistsUnion Square    5 star rating    250  \n",
       "13  General DentistryCosmetic DentistsOral Surgeon...  4.5 star rating    357  \n",
       "14   Cosmetic DentistsGeneral DentistryInner Richmond    5 star rating    163  \n",
       "15             General DentistryLower Pacific Heights    5 star rating    123  \n",
       "16  Cosmetic DentistsGeneral DentistryOrthodontist...  4.5 star rating    237  \n",
       "17  Cosmetic DentistsEndodontistsGeneral Dentistry...    5 star rating    140  \n",
       "18                       General DentistryWest Portal    5 star rating     47  "
      ]
     },
     "execution_count": 60,
     "metadata": {},
     "output_type": "execute_result"
    }
   ],
   "source": [
    "df = pd.DataFrame.from_dict(d)\n",
    "df"
   ]
  },
  {
   "cell_type": "markdown",
   "metadata": {},
   "source": [
    "### Clean the Data"
   ]
  },
  {
   "cell_type": "code",
   "execution_count": 63,
   "metadata": {},
   "outputs": [
    {
     "data": {
      "text/html": [
       "<div>\n",
       "<style scoped>\n",
       "    .dataframe tbody tr th:only-of-type {\n",
       "        vertical-align: middle;\n",
       "    }\n",
       "\n",
       "    .dataframe tbody tr th {\n",
       "        vertical-align: top;\n",
       "    }\n",
       "\n",
       "    .dataframe thead th {\n",
       "        text-align: right;\n",
       "    }\n",
       "</style>\n",
       "<table border=\"1\" class=\"dataframe\">\n",
       "  <thead>\n",
       "    <tr style=\"text-align: right;\">\n",
       "      <th></th>\n",
       "      <th>Name</th>\n",
       "      <th>Expertise</th>\n",
       "      <th>Stars</th>\n",
       "      <th>Counts</th>\n",
       "    </tr>\n",
       "  </thead>\n",
       "  <tbody>\n",
       "    <tr>\n",
       "      <th>0</th>\n",
       "      <td>Mission Dental Group SF</td>\n",
       "      <td>EndodontistsCosmetic DentistsGeneral Dentistry...</td>\n",
       "      <td>5</td>\n",
       "      <td>60</td>\n",
       "    </tr>\n",
       "    <tr>\n",
       "      <th>1</th>\n",
       "      <td>Zen Dental Studio</td>\n",
       "      <td>OrthodontistsGeneral DentistryCosmetic Dentist...</td>\n",
       "      <td>5</td>\n",
       "      <td>103</td>\n",
       "    </tr>\n",
       "    <tr>\n",
       "      <th>2</th>\n",
       "      <td>G Dental Group</td>\n",
       "      <td>Cosmetic DentistsGeneral Dentistry\\nVerified L...</td>\n",
       "      <td>5</td>\n",
       "      <td>215</td>\n",
       "    </tr>\n",
       "    <tr>\n",
       "      <th>3</th>\n",
       "      <td>Franklin Dental Group</td>\n",
       "      <td>EndodontistsGeneral DentistryCosmetic Dentists...</td>\n",
       "      <td>5</td>\n",
       "      <td>13</td>\n",
       "    </tr>\n",
       "    <tr>\n",
       "      <th>4</th>\n",
       "      <td>David T Ho, DDS</td>\n",
       "      <td>DentistsLower Pacific Heights</td>\n",
       "      <td>5</td>\n",
       "      <td>123</td>\n",
       "    </tr>\n",
       "    <tr>\n",
       "      <th>5</th>\n",
       "      <td>Joshua B Bernstein, DDS</td>\n",
       "      <td>Cosmetic DentistsGeneral Dentistry\\nVerified L...</td>\n",
       "      <td>5</td>\n",
       "      <td>45</td>\n",
       "    </tr>\n",
       "    <tr>\n",
       "      <th>6</th>\n",
       "      <td>Caroline Le, DDS</td>\n",
       "      <td>Cosmetic DentistsGeneral DentistryUnion Square</td>\n",
       "      <td>5</td>\n",
       "      <td>60</td>\n",
       "    </tr>\n",
       "    <tr>\n",
       "      <th>7</th>\n",
       "      <td>Phillip H. Saddler, DDS - Saddler Family Denti...</td>\n",
       "      <td>General DentistryCosmetic Dentists\\nVerified L...</td>\n",
       "      <td>4.5</td>\n",
       "      <td>72</td>\n",
       "    </tr>\n",
       "    <tr>\n",
       "      <th>8</th>\n",
       "      <td>All Smiles Dental</td>\n",
       "      <td>General DentistryEndodontistsOrthodontistsWest...</td>\n",
       "      <td>5</td>\n",
       "      <td>479</td>\n",
       "    </tr>\n",
       "    <tr>\n",
       "      <th>9</th>\n",
       "      <td>Pacific Heights Dental Studio</td>\n",
       "      <td>General DentistryCosmetic DentistsPeriodontist...</td>\n",
       "      <td>5</td>\n",
       "      <td>218</td>\n",
       "    </tr>\n",
       "    <tr>\n",
       "      <th>10</th>\n",
       "      <td>Zen Dental Studio</td>\n",
       "      <td>General DentistryCosmetic DentistsOrthodontist...</td>\n",
       "      <td>5</td>\n",
       "      <td>103</td>\n",
       "    </tr>\n",
       "    <tr>\n",
       "      <th>11</th>\n",
       "      <td>Robert Phong Ho, DDS</td>\n",
       "      <td>General DentistryInner Richmond</td>\n",
       "      <td>5</td>\n",
       "      <td>113</td>\n",
       "    </tr>\n",
       "    <tr>\n",
       "      <th>12</th>\n",
       "      <td>Jeremy J Velasco, DDS</td>\n",
       "      <td>General DentistryCosmetic DentistsUnion Square</td>\n",
       "      <td>5</td>\n",
       "      <td>250</td>\n",
       "    </tr>\n",
       "    <tr>\n",
       "      <th>13</th>\n",
       "      <td>Washington Square Park Dental</td>\n",
       "      <td>General DentistryCosmetic DentistsOral Surgeon...</td>\n",
       "      <td>4.5</td>\n",
       "      <td>357</td>\n",
       "    </tr>\n",
       "    <tr>\n",
       "      <th>14</th>\n",
       "      <td>Golden Gate Dental</td>\n",
       "      <td>Cosmetic DentistsGeneral DentistryInner Richmond</td>\n",
       "      <td>5</td>\n",
       "      <td>163</td>\n",
       "    </tr>\n",
       "    <tr>\n",
       "      <th>15</th>\n",
       "      <td>David T Ho, DDS</td>\n",
       "      <td>General DentistryLower Pacific Heights</td>\n",
       "      <td>5</td>\n",
       "      <td>123</td>\n",
       "    </tr>\n",
       "    <tr>\n",
       "      <th>16</th>\n",
       "      <td>Josh Berd, DDS - The Dentist Group</td>\n",
       "      <td>Cosmetic DentistsGeneral DentistryOrthodontist...</td>\n",
       "      <td>4.5</td>\n",
       "      <td>237</td>\n",
       "    </tr>\n",
       "    <tr>\n",
       "      <th>17</th>\n",
       "      <td>Pastel Dental</td>\n",
       "      <td>Cosmetic DentistsEndodontistsGeneral Dentistry...</td>\n",
       "      <td>5</td>\n",
       "      <td>140</td>\n",
       "    </tr>\n",
       "    <tr>\n",
       "      <th>18</th>\n",
       "      <td>Growney Maurice Jr, DDS</td>\n",
       "      <td>General DentistryWest Portal</td>\n",
       "      <td>5</td>\n",
       "      <td>47</td>\n",
       "    </tr>\n",
       "  </tbody>\n",
       "</table>\n",
       "</div>"
      ],
      "text/plain": [
       "                                                 Name  \\\n",
       "0                             Mission Dental Group SF   \n",
       "1                                   Zen Dental Studio   \n",
       "2                                      G Dental Group   \n",
       "3                               Franklin Dental Group   \n",
       "4                                     David T Ho, DDS   \n",
       "5                             Joshua B Bernstein, DDS   \n",
       "6                                    Caroline Le, DDS   \n",
       "7   Phillip H. Saddler, DDS - Saddler Family Denti...   \n",
       "8                                   All Smiles Dental   \n",
       "9                       Pacific Heights Dental Studio   \n",
       "10                                  Zen Dental Studio   \n",
       "11                               Robert Phong Ho, DDS   \n",
       "12                              Jeremy J Velasco, DDS   \n",
       "13                      Washington Square Park Dental   \n",
       "14                                 Golden Gate Dental   \n",
       "15                                    David T Ho, DDS   \n",
       "16                 Josh Berd, DDS - The Dentist Group   \n",
       "17                                      Pastel Dental   \n",
       "18                            Growney Maurice Jr, DDS   \n",
       "\n",
       "                                            Expertise Stars Counts  \n",
       "0   EndodontistsCosmetic DentistsGeneral Dentistry...     5     60  \n",
       "1   OrthodontistsGeneral DentistryCosmetic Dentist...     5    103  \n",
       "2   Cosmetic DentistsGeneral Dentistry\\nVerified L...     5    215  \n",
       "3   EndodontistsGeneral DentistryCosmetic Dentists...     5     13  \n",
       "4                       DentistsLower Pacific Heights     5    123  \n",
       "5   Cosmetic DentistsGeneral Dentistry\\nVerified L...     5     45  \n",
       "6      Cosmetic DentistsGeneral DentistryUnion Square     5     60  \n",
       "7   General DentistryCosmetic Dentists\\nVerified L...   4.5     72  \n",
       "8   General DentistryEndodontistsOrthodontistsWest...     5    479  \n",
       "9   General DentistryCosmetic DentistsPeriodontist...     5    218  \n",
       "10  General DentistryCosmetic DentistsOrthodontist...     5    103  \n",
       "11                    General DentistryInner Richmond     5    113  \n",
       "12     General DentistryCosmetic DentistsUnion Square     5    250  \n",
       "13  General DentistryCosmetic DentistsOral Surgeon...   4.5    357  \n",
       "14   Cosmetic DentistsGeneral DentistryInner Richmond     5    163  \n",
       "15             General DentistryLower Pacific Heights     5    123  \n",
       "16  Cosmetic DentistsGeneral DentistryOrthodontist...   4.5    237  \n",
       "17  Cosmetic DentistsEndodontistsGeneral Dentistry...     5    140  \n",
       "18                       General DentistryWest Portal     5     47  "
      ]
     },
     "execution_count": 63,
     "metadata": {},
     "output_type": "execute_result"
    }
   ],
   "source": [
    "df['Stars'] = df['Stars'].apply(lambda x:x.replace(' star rating',''))\n",
    "df"
   ]
  },
  {
   "cell_type": "markdown",
   "metadata": {},
   "source": [
    "### Save Data in Excel"
   ]
  },
  {
   "cell_type": "code",
   "execution_count": 64,
   "metadata": {},
   "outputs": [],
   "source": [
    "# df.to_excel('collected_data.xlsx', index = False)"
   ]
  }
 ],
 "metadata": {
  "kernelspec": {
   "display_name": "Python 3",
   "language": "python",
   "name": "python3"
  },
  "language_info": {
   "codemirror_mode": {
    "name": "ipython",
    "version": 3
   },
   "file_extension": ".py",
   "mimetype": "text/x-python",
   "name": "python",
   "nbconvert_exporter": "python",
   "pygments_lexer": "ipython3",
   "version": "3.8.5"
  }
 },
 "nbformat": 4,
 "nbformat_minor": 4
}
